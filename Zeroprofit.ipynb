{
 "cells": [
  {
   "cell_type": "code",
   "execution_count": 14,
   "id": "927591c8",
   "metadata": {},
   "outputs": [],
   "source": [
    "import pandas as pd\n",
    "import os\n",
    "\n",
    "df_zeromargin = pd.read_excel(\"C:/Users/SANDAMO/Documents/Processed Data/ZeroMarginRaw1.xlsx\")\n",
    "\n",
    "df_selectedCols = [\"Parent Name\",\"Shipper_Addr1\", \"Shipper_City\", \"Shipper_State\", \"Shipper_Zip\", \"Recipient_Company\", \"Recipient_Addr1\", \"Recipient_City\", \"Recipient_State\", \"Recipient_Zip\", \"Zone\", \"Pieces\", \"Weight\", \"Height\", \"Length\", \"Width\", \"ServicePackaging\", \"ShipDate\", \"InvoiceNum\", \"Invoice Date\", \"TrackingId\", \"AmtDue\", \"Additional Service Code\", \"Discount\", \"Published Rate\", \"Discount ($)\", \"LH\", \"LH+\", \"FSC\", \"Total Amt Due\", \"Profit\", \"Profit Margin\", \"BillToAcct\", \"Service Level\", \"Shipper Country\", \"Recipient Country\"]\n",
    "\n",
    "df_selectedCols = df_zeromargin[df_selectedCols]\n",
    "\n",
    "df_zeroprofitmargin = df_selectedCols[df_selectedCols[\"Profit\"] == 0.0]\n",
    "\n",
    "#df_zeroprofitmargin.head(100)\n",
    "\n",
    "df_zeroprofitmargin.to_excel(\"C:/Users/SANDAMO/Documents/Processed Data/ZeroProfitMarginRaw.xlsx\", index = False)"
   ]
  },
  {
   "cell_type": "code",
   "execution_count": null,
   "id": "3c87494d",
   "metadata": {},
   "outputs": [],
   "source": []
  }
 ],
 "metadata": {
  "kernelspec": {
   "display_name": "Python 3 (ipykernel)",
   "language": "python",
   "name": "python3"
  },
  "language_info": {
   "codemirror_mode": {
    "name": "ipython",
    "version": 3
   },
   "file_extension": ".py",
   "mimetype": "text/x-python",
   "name": "python",
   "nbconvert_exporter": "python",
   "pygments_lexer": "ipython3",
   "version": "3.9.13"
  }
 },
 "nbformat": 4,
 "nbformat_minor": 5
}
