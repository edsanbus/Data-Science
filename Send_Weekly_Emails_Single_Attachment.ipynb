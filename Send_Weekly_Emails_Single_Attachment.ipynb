{
 "cells": [
  {
   "cell_type": "code",
   "execution_count": 2,
   "id": "b676e909",
   "metadata": {},
   "outputs": [
    {
     "name": "stdout",
     "output_type": "stream",
     "text": [
      "Email Sent To: benzmol@chrobinson.com with attachment: 123Storescom 01.31.24.xlsx\n",
      "Email Sent To: benzmol@chrobinson.com with attachment: 123Storescom - Inbound 01.31.24.xlsx\n",
      "Email Sent To: barb.dooley@chrobinson.com with attachment: 2San 01.31.24.xlsx\n",
      "Email Sent To: 3vusa@chrobinson.com with attachment: 3V Tech USA 01.31.24.xlsx\n"
     ]
    },
    {
     "ename": "KeyboardInterrupt",
     "evalue": "",
     "output_type": "error",
     "traceback": [
      "\u001b[1;31m---------------------------------------------------------------------------\u001b[0m",
      "\u001b[1;31mKeyboardInterrupt\u001b[0m                         Traceback (most recent call last)",
      "\u001b[1;32m~\\AppData\\Local\\Temp\\ipykernel_13636\\2951591409.py\u001b[0m in \u001b[0;36m<module>\u001b[1;34m\u001b[0m\n\u001b[0;32m     66\u001b[0m \u001b[1;33m\u001b[0m\u001b[0m\n\u001b[0;32m     67\u001b[0m     \u001b[1;31m# Send emails\u001b[0m\u001b[1;33m\u001b[0m\u001b[1;33m\u001b[0m\u001b[0m\n\u001b[1;32m---> 68\u001b[1;33m     \u001b[0msend_emails_from_excel\u001b[0m\u001b[1;33m(\u001b[0m\u001b[0mexcel_file_path\u001b[0m\u001b[1;33m,\u001b[0m \u001b[0msender_email_address\u001b[0m\u001b[1;33m,\u001b[0m \u001b[0msender_name\u001b[0m\u001b[1;33m,\u001b[0m \u001b[0mattachment_folder_path\u001b[0m\u001b[1;33m)\u001b[0m\u001b[1;33m\u001b[0m\u001b[1;33m\u001b[0m\u001b[0m\n\u001b[0m\u001b[0;32m     69\u001b[0m \u001b[1;33m\u001b[0m\u001b[0m\n",
      "\u001b[1;32m~\\AppData\\Local\\Temp\\ipykernel_13636\\2951591409.py\u001b[0m in \u001b[0;36msend_emails_from_excel\u001b[1;34m(excel_file, sender_email, sender_name, attachment_folder)\u001b[0m\n\u001b[0;32m     53\u001b[0m         \u001b[1;32mif\u001b[0m \u001b[0mos\u001b[0m\u001b[1;33m.\u001b[0m\u001b[0mpath\u001b[0m\u001b[1;33m.\u001b[0m\u001b[0mexists\u001b[0m\u001b[1;33m(\u001b[0m\u001b[0mattachment_path\u001b[0m\u001b[1;33m)\u001b[0m\u001b[1;33m:\u001b[0m\u001b[1;33m\u001b[0m\u001b[1;33m\u001b[0m\u001b[0m\n\u001b[0;32m     54\u001b[0m             \u001b[1;31m# Send email with attachment\u001b[0m\u001b[1;33m\u001b[0m\u001b[1;33m\u001b[0m\u001b[0m\n\u001b[1;32m---> 55\u001b[1;33m             \u001b[0msend_email\u001b[0m\u001b[1;33m(\u001b[0m\u001b[0msender\u001b[0m\u001b[1;33m,\u001b[0m \u001b[0msubject\u001b[0m\u001b[1;33m,\u001b[0m \u001b[0mbody\u001b[0m\u001b[1;33m,\u001b[0m \u001b[0mto_email\u001b[0m\u001b[1;33m,\u001b[0m \u001b[0mattachment_path\u001b[0m\u001b[1;33m)\u001b[0m\u001b[1;33m\u001b[0m\u001b[1;33m\u001b[0m\u001b[0m\n\u001b[0m\u001b[0;32m     56\u001b[0m             \u001b[0mprint\u001b[0m\u001b[1;33m(\u001b[0m\u001b[1;34mf\"Email Sent To: {to_email} with attachment: {attachment_name}\"\u001b[0m\u001b[1;33m)\u001b[0m\u001b[1;33m\u001b[0m\u001b[1;33m\u001b[0m\u001b[0m\n\u001b[0;32m     57\u001b[0m         \u001b[1;32mcontinue\u001b[0m\u001b[1;33m\u001b[0m\u001b[1;33m\u001b[0m\u001b[0m\n",
      "\u001b[1;32m~\\AppData\\Local\\Temp\\ipykernel_13636\\2951591409.py\u001b[0m in \u001b[0;36msend_email\u001b[1;34m(sender, subject, body, to_email, attachment_path)\u001b[0m\n\u001b[0;32m     19\u001b[0m \u001b[1;33m\u001b[0m\u001b[0m\n\u001b[0;32m     20\u001b[0m     \u001b[1;31m# Send the email\u001b[0m\u001b[1;33m\u001b[0m\u001b[1;33m\u001b[0m\u001b[0m\n\u001b[1;32m---> 21\u001b[1;33m     \u001b[0mmail\u001b[0m\u001b[1;33m.\u001b[0m\u001b[0mSend\u001b[0m\u001b[1;33m(\u001b[0m\u001b[1;33m)\u001b[0m\u001b[1;33m\u001b[0m\u001b[1;33m\u001b[0m\u001b[0m\n\u001b[0m\u001b[0;32m     22\u001b[0m \u001b[1;33m\u001b[0m\u001b[0m\n\u001b[0;32m     23\u001b[0m \u001b[1;31m# Function to read data from Excel file\u001b[0m\u001b[1;33m\u001b[0m\u001b[1;33m\u001b[0m\u001b[0m\n",
      "\u001b[1;32m~\\Anaconda3\\lib\\site-packages\\win32com\\client\\dynamic.py\u001b[0m in \u001b[0;36mSend\u001b[1;34m(self)\u001b[0m\n",
      "\u001b[1;31mKeyboardInterrupt\u001b[0m: "
     ]
    }
   ],
   "source": [
    "import win32com.client\n",
    "import pandas as pd\n",
    "import os\n",
    "\n",
    "# Function to send email with attachments\n",
    "def send_email(sender, subject, body, to_email, attachment_path):\n",
    "    outlook = win32com.client.Dispatch(\"Outlook.Application\")\n",
    "    mail = outlook.CreateItem(0)  # 0 represents MailItem\n",
    "\n",
    "    # Set email properties\n",
    "    mail.SentOnBehalfOfName = sender\n",
    "    mail.Subject = subject\n",
    "    mail.Body = body\n",
    "    mail.To = to_email\n",
    "    \n",
    "    # Attach the file if it exists\n",
    "    if os.path.exists(attachment_path):\n",
    "        mail.Attachments.Add(attachment_path)\n",
    "\n",
    "    # Send the email\n",
    "    mail.Send()\n",
    "\n",
    "# Function to read data from Excel file\n",
    "def read_excel_data(file_path):\n",
    "    df = pd.read_excel(file_path)\n",
    "    return df\n",
    "\n",
    "# Main function to send emails\n",
    "def send_emails_from_excel(excel_file, sender_email, sender_name, attachment_folder):\n",
    "    # Read data from Excel file\n",
    "    df = read_excel_data(excel_file)\n",
    "\n",
    "    # Outlook constants\n",
    "    olFormatHTML = 2\n",
    "\n",
    "    # Connect to Outlook\n",
    "    outlook = win32com.client.Dispatch(\"Outlook.Application\")\n",
    "    namespace = outlook.GetNamespace(\"MAPI\")\n",
    "\n",
    "    # Loop through each row in the Excel file\n",
    "    for index, row in df.iterrows():\n",
    "        # Compose email details\n",
    "        sender = row['Sender']\n",
    "        subject = row['Subject']\n",
    "        body = row['Body']\n",
    "        to_email = row['Email']\n",
    "        attachment_name = row['Attachment']\n",
    "\n",
    "        # Compose the attachment path\n",
    "        attachment_path = os.path.join(attachment_folder, attachment_name)\n",
    "\n",
    "        # Send the email\n",
    "        if os.path.exists(attachment_path):\n",
    "            # Send email with attachment\n",
    "            send_email(sender, subject, body, to_email, attachment_path)\n",
    "            print(f\"Email Sent To: {to_email} with attachment: {attachment_name}\")\n",
    "        continue\n",
    "        #else:\n",
    "        #   print(f\"Attachment file not found: {attachment_name}\")    \n",
    "\n",
    "if __name__ == \"__main__\":\n",
    "    excel_file_path = 'C:/Users/SANDAMO/Documents/Raw Dataset/Email Lists/Weekly_Reports_Emails.xlsx'\n",
    "    sender_email_address = \"chrparcelreports@chrobinson.com\"\n",
    "    sender_name = \"CHR Parcel Reports\"\n",
    "    attachment_folder_path = 'C:/Users/SANDAMO/Documents/Weekly Reports/Break it Up/'\n",
    "\n",
    "    # Send emails\n",
    "    send_emails_from_excel(excel_file_path, sender_email_address, sender_name, attachment_folder_path)\n",
    "  "
   ]
  },
  {
   "cell_type": "code",
   "execution_count": null,
   "id": "22218a97",
   "metadata": {},
   "outputs": [],
   "source": []
  }
 ],
 "metadata": {
  "kernelspec": {
   "display_name": "Python 3 (ipykernel)",
   "language": "python",
   "name": "python3"
  },
  "language_info": {
   "codemirror_mode": {
    "name": "ipython",
    "version": 3
   },
   "file_extension": ".py",
   "mimetype": "text/x-python",
   "name": "python",
   "nbconvert_exporter": "python",
   "pygments_lexer": "ipython3",
   "version": "3.9.13"
  }
 },
 "nbformat": 4,
 "nbformat_minor": 5
}
