{
 "cells": [
  {
   "cell_type": "code",
   "execution_count": 1,
   "id": "24210318",
   "metadata": {},
   "outputs": [],
   "source": [
    "import pandas as pd\n",
    "import os"
   ]
  },
  {
   "cell_type": "code",
   "execution_count": 2,
   "id": "0c4c2fd0",
   "metadata": {},
   "outputs": [],
   "source": [
    "InputLocation  = \"C:/Users/SANDAMO/Documents/Raw Dataset/Datacheck/\"\n",
    "OutputLocation = \"C:/Users/SANDAMO/Documents/Processed Data/\""
   ]
  },
  {
   "cell_type": "code",
   "execution_count": 3,
   "id": "1206a196",
   "metadata": {},
   "outputs": [
    {
     "data": {
      "text/plain": [
       "['Data Check Workbook Template 01.03.24.xlsm']"
      ]
     },
     "execution_count": 3,
     "metadata": {},
     "output_type": "execute_result"
    }
   ],
   "source": [
    "filelist = os.listdir(InputLocation)\n",
    "\n",
    "filelist"
   ]
  },
  {
   "cell_type": "code",
   "execution_count": 4,
   "id": "d977e0e8",
   "metadata": {},
   "outputs": [
    {
     "name": "stdout",
     "output_type": "stream",
     "text": [
      "Loading files Data Check Workbook Template 01.03.24.xlsm...\n"
     ]
    }
   ],
   "source": [
    "df = []\n",
    "\n",
    "for file in filelist:\n",
    "    if file.endswith(\".xlsm\"):\n",
    "        print('Loading files: {0}...'.format(file))\n",
    "        df.append(pd.read_excel(os.path.join(InputLocation, file), sheet_name='Shipment Detail'))\n",
    "        \n",
    "df_zeromargin = pd.concat(df, axis=0)\n",
    "df_zeromargin.to_excel(OutputLocation+'ZeroMarginRaw2.xlsx', index = False)"
   ]
  },
  {
   "cell_type": "code",
   "execution_count": 5,
   "id": "1a61f019",
   "metadata": {},
   "outputs": [],
   "source": [
    "df_Zeroprofit = pd.read_excel(\"C:/Users/SANDAMO/Documents/Processed Data/ZeroMarginRaw2.xlsx\")"
   ]
  },
  {
   "cell_type": "code",
   "execution_count": 7,
   "id": "bb3eda65",
   "metadata": {},
   "outputs": [
    {
     "data": {
      "text/html": [
       "<div>\n",
       "<style scoped>\n",
       "    .dataframe tbody tr th:only-of-type {\n",
       "        vertical-align: middle;\n",
       "    }\n",
       "\n",
       "    .dataframe tbody tr th {\n",
       "        vertical-align: top;\n",
       "    }\n",
       "\n",
       "    .dataframe thead th {\n",
       "        text-align: right;\n",
       "    }\n",
       "</style>\n",
       "<table border=\"1\" class=\"dataframe\">\n",
       "  <thead>\n",
       "    <tr style=\"text-align: right;\">\n",
       "      <th></th>\n",
       "      <th>Spreadsheet name</th>\n",
       "      <th>Reference</th>\n",
       "      <th>Reference_Two</th>\n",
       "      <th>Reference_Three</th>\n",
       "      <th>CustomerPO</th>\n",
       "      <th>CustomerStoreNum</th>\n",
       "      <th>CustomerDept</th>\n",
       "      <th>CustomerInvoiceNum</th>\n",
       "      <th>ReturnedMerchandiseAuthorizationNum</th>\n",
       "      <th>Shipper_Company</th>\n",
       "      <th>...</th>\n",
       "      <th>C Code</th>\n",
       "      <th>Parent C code</th>\n",
       "      <th>Parent Name</th>\n",
       "      <th>Billing Match</th>\n",
       "      <th>Difference</th>\n",
       "      <th>Profit Margin</th>\n",
       "      <th>Profit Range</th>\n",
       "      <th>Greater than 1K</th>\n",
       "      <th>Is Original Shipment?</th>\n",
       "      <th>Account Type</th>\n",
       "    </tr>\n",
       "  </thead>\n",
       "  <tbody>\n",
       "    <tr>\n",
       "      <th>0</th>\n",
       "      <td>123Storescom</td>\n",
       "      <td>102 23</td>\n",
       "      <td>NaN</td>\n",
       "      <td>NaN</td>\n",
       "      <td>YUS 40551  Box 1 of 1</td>\n",
       "      <td>NaN</td>\n",
       "      <td>NaN</td>\n",
       "      <td>NaN</td>\n",
       "      <td>NaN</td>\n",
       "      <td>Yu Shan Co USA Ltd</td>\n",
       "      <td>...</td>\n",
       "      <td>C8763383</td>\n",
       "      <td>C8763383</td>\n",
       "      <td>123Storescom</td>\n",
       "      <td>13.15</td>\n",
       "      <td>0</td>\n",
       "      <td>0.0</td>\n",
       "      <td>NONE</td>\n",
       "      <td>N</td>\n",
       "      <td>Y</td>\n",
       "      <td>CHR</td>\n",
       "    </tr>\n",
       "    <tr>\n",
       "      <th>1</th>\n",
       "      <td>123Storescom</td>\n",
       "      <td>53110</td>\n",
       "      <td>NaN</td>\n",
       "      <td>NaN</td>\n",
       "      <td>RDK 131  Box 1 of 1</td>\n",
       "      <td>NaN</td>\n",
       "      <td>NaN</td>\n",
       "      <td>NaN</td>\n",
       "      <td>NaN</td>\n",
       "      <td>RDK Product</td>\n",
       "      <td>...</td>\n",
       "      <td>C8763383</td>\n",
       "      <td>C8763383</td>\n",
       "      <td>123Storescom</td>\n",
       "      <td>27.36</td>\n",
       "      <td>0</td>\n",
       "      <td>0.0</td>\n",
       "      <td>NONE</td>\n",
       "      <td>N</td>\n",
       "      <td>Y</td>\n",
       "      <td>CHR</td>\n",
       "    </tr>\n",
       "    <tr>\n",
       "      <th>2</th>\n",
       "      <td>123Storescom</td>\n",
       "      <td>HC20WW</td>\n",
       "      <td>NaN</td>\n",
       "      <td>NaN</td>\n",
       "      <td>FLS 113  Box 1 of 1</td>\n",
       "      <td>NaN</td>\n",
       "      <td>NaN</td>\n",
       "      <td>NaN</td>\n",
       "      <td>NaN</td>\n",
       "      <td>Summit Appliance</td>\n",
       "      <td>...</td>\n",
       "      <td>C8763383</td>\n",
       "      <td>C8763383</td>\n",
       "      <td>123Storescom</td>\n",
       "      <td>13.17</td>\n",
       "      <td>0</td>\n",
       "      <td>0.0</td>\n",
       "      <td>NONE</td>\n",
       "      <td>N</td>\n",
       "      <td>Y</td>\n",
       "      <td>CHR</td>\n",
       "    </tr>\n",
       "    <tr>\n",
       "      <th>3</th>\n",
       "      <td>123Storescom</td>\n",
       "      <td>2026</td>\n",
       "      <td>NaN</td>\n",
       "      <td>NaN</td>\n",
       "      <td>ADC 18474  Box 4 of 5</td>\n",
       "      <td>NaN</td>\n",
       "      <td>NaN</td>\n",
       "      <td>NaN</td>\n",
       "      <td>NaN</td>\n",
       "      <td>Synergy Recommerce</td>\n",
       "      <td>...</td>\n",
       "      <td>C8763383</td>\n",
       "      <td>C8763383</td>\n",
       "      <td>123Storescom</td>\n",
       "      <td>10.20</td>\n",
       "      <td>0</td>\n",
       "      <td>0.0</td>\n",
       "      <td>NONE</td>\n",
       "      <td>N</td>\n",
       "      <td>Y</td>\n",
       "      <td>CHR</td>\n",
       "    </tr>\n",
       "    <tr>\n",
       "      <th>4</th>\n",
       "      <td>123Storescom</td>\n",
       "      <td>2026</td>\n",
       "      <td>NaN</td>\n",
       "      <td>NaN</td>\n",
       "      <td>ADC 18474  Box 5 of 5</td>\n",
       "      <td>NaN</td>\n",
       "      <td>NaN</td>\n",
       "      <td>NaN</td>\n",
       "      <td>NaN</td>\n",
       "      <td>Synergy Recommerce</td>\n",
       "      <td>...</td>\n",
       "      <td>C8763383</td>\n",
       "      <td>C8763383</td>\n",
       "      <td>123Storescom</td>\n",
       "      <td>10.20</td>\n",
       "      <td>0</td>\n",
       "      <td>0.0</td>\n",
       "      <td>NONE</td>\n",
       "      <td>N</td>\n",
       "      <td>Y</td>\n",
       "      <td>CHR</td>\n",
       "    </tr>\n",
       "  </tbody>\n",
       "</table>\n",
       "<p>5 rows × 88 columns</p>\n",
       "</div>"
      ],
      "text/plain": [
       "  Spreadsheet name Reference Reference_Two Reference_Three  \\\n",
       "0     123Storescom    102 23           NaN             NaN   \n",
       "1     123Storescom     53110           NaN             NaN   \n",
       "2     123Storescom    HC20WW           NaN             NaN   \n",
       "3     123Storescom      2026           NaN             NaN   \n",
       "4     123Storescom      2026           NaN             NaN   \n",
       "\n",
       "              CustomerPO CustomerStoreNum CustomerDept CustomerInvoiceNum  \\\n",
       "0  YUS 40551  Box 1 of 1              NaN          NaN                NaN   \n",
       "1    RDK 131  Box 1 of 1              NaN          NaN                NaN   \n",
       "2    FLS 113  Box 1 of 1              NaN          NaN                NaN   \n",
       "3  ADC 18474  Box 4 of 5              NaN          NaN                NaN   \n",
       "4  ADC 18474  Box 5 of 5              NaN          NaN                NaN   \n",
       "\n",
       "  ReturnedMerchandiseAuthorizationNum     Shipper_Company  ...    C Code  \\\n",
       "0                                 NaN  Yu Shan Co USA Ltd  ...  C8763383   \n",
       "1                                 NaN         RDK Product  ...  C8763383   \n",
       "2                                 NaN    Summit Appliance  ...  C8763383   \n",
       "3                                 NaN  Synergy Recommerce  ...  C8763383   \n",
       "4                                 NaN  Synergy Recommerce  ...  C8763383   \n",
       "\n",
       "  Parent C code   Parent Name Billing Match Difference Profit Margin  \\\n",
       "0      C8763383  123Storescom         13.15          0           0.0   \n",
       "1      C8763383  123Storescom         27.36          0           0.0   \n",
       "2      C8763383  123Storescom         13.17          0           0.0   \n",
       "3      C8763383  123Storescom         10.20          0           0.0   \n",
       "4      C8763383  123Storescom         10.20          0           0.0   \n",
       "\n",
       "  Profit Range Greater than 1K Is Original Shipment? Account Type  \n",
       "0         NONE               N                     Y          CHR  \n",
       "1         NONE               N                     Y          CHR  \n",
       "2         NONE               N                     Y          CHR  \n",
       "3         NONE               N                     Y          CHR  \n",
       "4         NONE               N                     Y          CHR  \n",
       "\n",
       "[5 rows x 88 columns]"
      ]
     },
     "execution_count": 7,
     "metadata": {},
     "output_type": "execute_result"
    }
   ],
   "source": [
    "df_Zeroprofit.head()"
   ]
  },
  {
   "cell_type": "code",
   "execution_count": 16,
   "id": "5e7915bc",
   "metadata": {},
   "outputs": [
    {
     "ename": "KeyError",
     "evalue": "'Spreadsheet name'",
     "output_type": "error",
     "traceback": [
      "\u001b[1;31m---------------------------------------------------------------------------\u001b[0m",
      "\u001b[1;31mKeyError\u001b[0m                                  Traceback (most recent call last)",
      "\u001b[1;32m~\\AppData\\Local\\Temp\\ipykernel_14196\\1655824411.py\u001b[0m in \u001b[0;36m<module>\u001b[1;34m\u001b[0m\n\u001b[1;32m----> 1\u001b[1;33m \u001b[0mdf_selected\u001b[0m \u001b[1;33m=\u001b[0m \u001b[0mdf_Zeroprofit\u001b[0m\u001b[1;33m[\u001b[0m\u001b[1;34m\"Spreadsheet name\"\u001b[0m\u001b[1;33m]\u001b[0m\u001b[1;33m\u001b[0m\u001b[1;33m\u001b[0m\u001b[0m\n\u001b[0m\u001b[0;32m      2\u001b[0m \u001b[1;33m\u001b[0m\u001b[0m\n\u001b[0;32m      3\u001b[0m \u001b[0mprint\u001b[0m\u001b[1;33m(\u001b[0m\u001b[0mdf_selected\u001b[0m\u001b[1;33m.\u001b[0m\u001b[0mhead\u001b[0m\u001b[1;33m(\u001b[0m\u001b[1;33m)\u001b[0m\u001b[1;33m)\u001b[0m\u001b[1;33m\u001b[0m\u001b[1;33m\u001b[0m\u001b[0m\n",
      "\u001b[1;32m~\\Anaconda3\\lib\\site-packages\\pandas\\core\\series.py\u001b[0m in \u001b[0;36m__getitem__\u001b[1;34m(self, key)\u001b[0m\n\u001b[0;32m    956\u001b[0m \u001b[1;33m\u001b[0m\u001b[0m\n\u001b[0;32m    957\u001b[0m         \u001b[1;32melif\u001b[0m \u001b[0mkey_is_scalar\u001b[0m\u001b[1;33m:\u001b[0m\u001b[1;33m\u001b[0m\u001b[1;33m\u001b[0m\u001b[0m\n\u001b[1;32m--> 958\u001b[1;33m             \u001b[1;32mreturn\u001b[0m \u001b[0mself\u001b[0m\u001b[1;33m.\u001b[0m\u001b[0m_get_value\u001b[0m\u001b[1;33m(\u001b[0m\u001b[0mkey\u001b[0m\u001b[1;33m)\u001b[0m\u001b[1;33m\u001b[0m\u001b[1;33m\u001b[0m\u001b[0m\n\u001b[0m\u001b[0;32m    959\u001b[0m \u001b[1;33m\u001b[0m\u001b[0m\n\u001b[0;32m    960\u001b[0m         \u001b[1;32mif\u001b[0m \u001b[0mis_hashable\u001b[0m\u001b[1;33m(\u001b[0m\u001b[0mkey\u001b[0m\u001b[1;33m)\u001b[0m\u001b[1;33m:\u001b[0m\u001b[1;33m\u001b[0m\u001b[1;33m\u001b[0m\u001b[0m\n",
      "\u001b[1;32m~\\Anaconda3\\lib\\site-packages\\pandas\\core\\series.py\u001b[0m in \u001b[0;36m_get_value\u001b[1;34m(self, label, takeable)\u001b[0m\n\u001b[0;32m   1067\u001b[0m \u001b[1;33m\u001b[0m\u001b[0m\n\u001b[0;32m   1068\u001b[0m         \u001b[1;31m# Similar to Index.get_value, but we do not fall back to positional\u001b[0m\u001b[1;33m\u001b[0m\u001b[1;33m\u001b[0m\u001b[0m\n\u001b[1;32m-> 1069\u001b[1;33m         \u001b[0mloc\u001b[0m \u001b[1;33m=\u001b[0m \u001b[0mself\u001b[0m\u001b[1;33m.\u001b[0m\u001b[0mindex\u001b[0m\u001b[1;33m.\u001b[0m\u001b[0mget_loc\u001b[0m\u001b[1;33m(\u001b[0m\u001b[0mlabel\u001b[0m\u001b[1;33m)\u001b[0m\u001b[1;33m\u001b[0m\u001b[1;33m\u001b[0m\u001b[0m\n\u001b[0m\u001b[0;32m   1070\u001b[0m         \u001b[1;32mreturn\u001b[0m \u001b[0mself\u001b[0m\u001b[1;33m.\u001b[0m\u001b[0mindex\u001b[0m\u001b[1;33m.\u001b[0m\u001b[0m_get_values_for_loc\u001b[0m\u001b[1;33m(\u001b[0m\u001b[0mself\u001b[0m\u001b[1;33m,\u001b[0m \u001b[0mloc\u001b[0m\u001b[1;33m,\u001b[0m \u001b[0mlabel\u001b[0m\u001b[1;33m)\u001b[0m\u001b[1;33m\u001b[0m\u001b[1;33m\u001b[0m\u001b[0m\n\u001b[0;32m   1071\u001b[0m \u001b[1;33m\u001b[0m\u001b[0m\n",
      "\u001b[1;32m~\\Anaconda3\\lib\\site-packages\\pandas\\core\\indexes\\range.py\u001b[0m in \u001b[0;36mget_loc\u001b[1;34m(self, key, method, tolerance)\u001b[0m\n\u001b[0;32m    387\u001b[0m                     \u001b[1;32mraise\u001b[0m \u001b[0mKeyError\u001b[0m\u001b[1;33m(\u001b[0m\u001b[0mkey\u001b[0m\u001b[1;33m)\u001b[0m \u001b[1;32mfrom\u001b[0m \u001b[0merr\u001b[0m\u001b[1;33m\u001b[0m\u001b[1;33m\u001b[0m\u001b[0m\n\u001b[0;32m    388\u001b[0m             \u001b[0mself\u001b[0m\u001b[1;33m.\u001b[0m\u001b[0m_check_indexing_error\u001b[0m\u001b[1;33m(\u001b[0m\u001b[0mkey\u001b[0m\u001b[1;33m)\u001b[0m\u001b[1;33m\u001b[0m\u001b[1;33m\u001b[0m\u001b[0m\n\u001b[1;32m--> 389\u001b[1;33m             \u001b[1;32mraise\u001b[0m \u001b[0mKeyError\u001b[0m\u001b[1;33m(\u001b[0m\u001b[0mkey\u001b[0m\u001b[1;33m)\u001b[0m\u001b[1;33m\u001b[0m\u001b[1;33m\u001b[0m\u001b[0m\n\u001b[0m\u001b[0;32m    390\u001b[0m         \u001b[1;32mreturn\u001b[0m \u001b[0msuper\u001b[0m\u001b[1;33m(\u001b[0m\u001b[1;33m)\u001b[0m\u001b[1;33m.\u001b[0m\u001b[0mget_loc\u001b[0m\u001b[1;33m(\u001b[0m\u001b[0mkey\u001b[0m\u001b[1;33m,\u001b[0m \u001b[0mmethod\u001b[0m\u001b[1;33m=\u001b[0m\u001b[0mmethod\u001b[0m\u001b[1;33m,\u001b[0m \u001b[0mtolerance\u001b[0m\u001b[1;33m=\u001b[0m\u001b[0mtolerance\u001b[0m\u001b[1;33m)\u001b[0m\u001b[1;33m\u001b[0m\u001b[1;33m\u001b[0m\u001b[0m\n\u001b[0;32m    391\u001b[0m \u001b[1;33m\u001b[0m\u001b[0m\n",
      "\u001b[1;31mKeyError\u001b[0m: 'Spreadsheet name'"
     ]
    }
   ],
   "source": [
    "df_selected = df_Zeroprofit[\"Spreadsheet name\"]\n",
    "\n",
    "print(df_selected.head())"
   ]
  },
  {
   "cell_type": "code",
   "execution_count": null,
   "id": "99bc8512",
   "metadata": {},
   "outputs": [],
   "source": []
  }
 ],
 "metadata": {
  "kernelspec": {
   "display_name": "Python 3 (ipykernel)",
   "language": "python",
   "name": "python3"
  },
  "language_info": {
   "codemirror_mode": {
    "name": "ipython",
    "version": 3
   },
   "file_extension": ".py",
   "mimetype": "text/x-python",
   "name": "python",
   "nbconvert_exporter": "python",
   "pygments_lexer": "ipython3",
   "version": "3.9.13"
  }
 },
 "nbformat": 4,
 "nbformat_minor": 5
}
